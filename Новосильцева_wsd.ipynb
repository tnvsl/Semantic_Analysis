{
 "cells": [
  {
   "cell_type": "code",
   "execution_count": 1,
   "id": "7fcec5a4",
   "metadata": {},
   "outputs": [],
   "source": [
    "import nltk\n",
    "from nltk.corpus import wordnet"
   ]
  },
  {
   "cell_type": "markdown",
   "id": "0ad2833e",
   "metadata": {},
   "source": [
    "swim - sail"
   ]
  },
  {
   "cell_type": "code",
   "execution_count": 2,
   "id": "2094389f",
   "metadata": {},
   "outputs": [],
   "source": [
    "syn1 = wordnet.synsets('swim')[1]"
   ]
  },
  {
   "cell_type": "code",
   "execution_count": 3,
   "id": "58d475f8",
   "metadata": {},
   "outputs": [
    {
     "data": {
      "text/plain": [
       "Synset('swim.v.01')"
      ]
     },
     "execution_count": 3,
     "metadata": {},
     "output_type": "execute_result"
    }
   ],
   "source": [
    "syn1"
   ]
  },
  {
   "cell_type": "code",
   "execution_count": 4,
   "id": "82189927",
   "metadata": {},
   "outputs": [],
   "source": [
    "syn2 = wordnet.synsets('sail')[3]"
   ]
  },
  {
   "cell_type": "code",
   "execution_count": 5,
   "id": "fcfbd311",
   "metadata": {},
   "outputs": [
    {
     "data": {
      "text/plain": [
       "Synset('sail.v.01')"
      ]
     },
     "execution_count": 5,
     "metadata": {},
     "output_type": "execute_result"
    }
   ],
   "source": [
    "syn2"
   ]
  },
  {
   "cell_type": "code",
   "execution_count": 6,
   "id": "440ce3f9",
   "metadata": {},
   "outputs": [],
   "source": [
    "from nltk.corpus import wordnet_ic\n",
    "brown_ic = wordnet_ic.ic('ic-brown.dat')\n",
    "semcor_ic = wordnet_ic.ic('ic-semcor.dat')"
   ]
  },
  {
   "cell_type": "code",
   "execution_count": 7,
   "id": "3bf2d69c",
   "metadata": {},
   "outputs": [],
   "source": [
    "from nltk.corpus import genesis\n",
    "genesis_ic = wordnet.ic(genesis, False, 0.0)"
   ]
  },
  {
   "cell_type": "code",
   "execution_count": 8,
   "id": "d1f7f6ce",
   "metadata": {},
   "outputs": [
    {
     "data": {
      "text/plain": [
       "3.6968927834763368"
      ]
     },
     "execution_count": 8,
     "metadata": {},
     "output_type": "execute_result"
    }
   ],
   "source": [
    "#Resnik similarity \n",
    "syn1.res_similarity(syn2, brown_ic)"
   ]
  },
  {
   "cell_type": "code",
   "execution_count": 9,
   "id": "1e9f85e4",
   "metadata": {},
   "outputs": [
    {
     "data": {
      "text/plain": [
       "3.892835114161143"
      ]
     },
     "execution_count": 9,
     "metadata": {},
     "output_type": "execute_result"
    }
   ],
   "source": [
    "syn1.res_similarity(syn2, genesis_ic)"
   ]
  },
  {
   "cell_type": "code",
   "execution_count": 10,
   "id": "8f05432f",
   "metadata": {},
   "outputs": [
    {
     "data": {
      "text/plain": [
       "0.08484239675093135"
      ]
     },
     "execution_count": 10,
     "metadata": {},
     "output_type": "execute_result"
    }
   ],
   "source": [
    "#Jiang&Conrath similarity \n",
    "syn1.jcn_similarity(syn2, brown_ic)"
   ]
  },
  {
   "cell_type": "code",
   "execution_count": 11,
   "id": "a8852e5c",
   "metadata": {},
   "outputs": [
    {
     "data": {
      "text/plain": [
       "1e-300"
      ]
     },
     "execution_count": 11,
     "metadata": {},
     "output_type": "execute_result"
    }
   ],
   "source": [
    "syn1.jcn_similarity(syn2, genesis_ic)"
   ]
  },
  {
   "cell_type": "code",
   "execution_count": 12,
   "id": "7e3ecd77",
   "metadata": {},
   "outputs": [
    {
     "data": {
      "text/plain": [
       "0.3796071438200381"
      ]
     },
     "execution_count": 12,
     "metadata": {},
     "output_type": "execute_result"
    }
   ],
   "source": [
    "#Lin similarity\n",
    "syn1.lin_similarity(syn2, semcor_ic)"
   ]
  },
  {
   "cell_type": "markdown",
   "id": "e40765bd",
   "metadata": {},
   "source": [
    "sail - fly"
   ]
  },
  {
   "cell_type": "code",
   "execution_count": 13,
   "id": "ba036905",
   "metadata": {},
   "outputs": [],
   "source": [
    "syn3 = wordnet.synsets('sail')[3]"
   ]
  },
  {
   "cell_type": "code",
   "execution_count": 14,
   "id": "bbae6583",
   "metadata": {},
   "outputs": [
    {
     "data": {
      "text/plain": [
       "Synset('sail.v.01')"
      ]
     },
     "execution_count": 14,
     "metadata": {},
     "output_type": "execute_result"
    }
   ],
   "source": [
    "syn3"
   ]
  },
  {
   "cell_type": "code",
   "execution_count": 15,
   "id": "acafed0f",
   "metadata": {},
   "outputs": [],
   "source": [
    "syn4 = wordnet.synsets('fly')[5]"
   ]
  },
  {
   "cell_type": "code",
   "execution_count": 16,
   "id": "6dedd599",
   "metadata": {},
   "outputs": [
    {
     "data": {
      "text/plain": [
       "Synset('fly.v.01')"
      ]
     },
     "execution_count": 16,
     "metadata": {},
     "output_type": "execute_result"
    }
   ],
   "source": [
    "syn4"
   ]
  },
  {
   "cell_type": "code",
   "execution_count": 17,
   "id": "9c020ad6",
   "metadata": {},
   "outputs": [
    {
     "data": {
      "text/plain": [
       "3.6968927834763368"
      ]
     },
     "execution_count": 17,
     "metadata": {},
     "output_type": "execute_result"
    }
   ],
   "source": [
    "#Resnik similarity \n",
    "syn3.res_similarity(syn4, brown_ic)"
   ]
  },
  {
   "cell_type": "code",
   "execution_count": 18,
   "id": "05f11864",
   "metadata": {},
   "outputs": [
    {
     "data": {
      "text/plain": [
       "3.892835114161143"
      ]
     },
     "execution_count": 18,
     "metadata": {},
     "output_type": "execute_result"
    }
   ],
   "source": [
    "syn3.res_similarity(syn4, genesis_ic)"
   ]
  },
  {
   "cell_type": "code",
   "execution_count": 19,
   "id": "d8e877cb",
   "metadata": {},
   "outputs": [
    {
     "data": {
      "text/plain": [
       "0.07894946793025492"
      ]
     },
     "execution_count": 19,
     "metadata": {},
     "output_type": "execute_result"
    }
   ],
   "source": [
    "#Jiang&Conrath similarity \n",
    "syn3.jcn_similarity(syn4, brown_ic)"
   ]
  },
  {
   "cell_type": "code",
   "execution_count": 20,
   "id": "12c1be24",
   "metadata": {},
   "outputs": [
    {
     "data": {
      "text/plain": [
       "1e-300"
      ]
     },
     "execution_count": 20,
     "metadata": {},
     "output_type": "execute_result"
    }
   ],
   "source": [
    "syn3.jcn_similarity(syn4, genesis_ic)"
   ]
  },
  {
   "cell_type": "code",
   "execution_count": 21,
   "id": "aba15c9e",
   "metadata": {},
   "outputs": [
    {
     "data": {
      "text/plain": [
       "0.41200261839427427"
      ]
     },
     "execution_count": 21,
     "metadata": {},
     "output_type": "execute_result"
    }
   ],
   "source": [
    "#Lin similarity\n",
    "syn3.lin_similarity(syn4, semcor_ic)"
   ]
  },
  {
   "cell_type": "markdown",
   "id": "2f2d1dc6",
   "metadata": {},
   "source": [
    "speak - sing"
   ]
  },
  {
   "cell_type": "code",
   "execution_count": 22,
   "id": "0a534536",
   "metadata": {},
   "outputs": [],
   "source": [
    "syn5 = wordnet.synsets('speak')[2]"
   ]
  },
  {
   "cell_type": "code",
   "execution_count": 23,
   "id": "c5eabfcd",
   "metadata": {},
   "outputs": [
    {
     "data": {
      "text/plain": [
       "Synset('speak.v.03')"
      ]
     },
     "execution_count": 23,
     "metadata": {},
     "output_type": "execute_result"
    }
   ],
   "source": [
    "syn5"
   ]
  },
  {
   "cell_type": "code",
   "execution_count": 24,
   "id": "15c0e890",
   "metadata": {},
   "outputs": [],
   "source": [
    "syn6 = wordnet.synsets('sing')[0]"
   ]
  },
  {
   "cell_type": "code",
   "execution_count": 25,
   "id": "7a18658e",
   "metadata": {},
   "outputs": [
    {
     "data": {
      "text/plain": [
       "Synset('sing.v.01')"
      ]
     },
     "execution_count": 25,
     "metadata": {},
     "output_type": "execute_result"
    }
   ],
   "source": [
    "syn6"
   ]
  },
  {
   "cell_type": "code",
   "execution_count": 26,
   "id": "5d5ffece",
   "metadata": {},
   "outputs": [
    {
     "data": {
      "text/plain": [
       "2.985554814241598"
      ]
     },
     "execution_count": 26,
     "metadata": {},
     "output_type": "execute_result"
    }
   ],
   "source": [
    "#Resnik similarity \n",
    "syn5.res_similarity(syn6, brown_ic)"
   ]
  },
  {
   "cell_type": "code",
   "execution_count": 27,
   "id": "ec5f7bbc",
   "metadata": {},
   "outputs": [
    {
     "data": {
      "text/plain": [
       "2.9030628766986943"
      ]
     },
     "execution_count": 27,
     "metadata": {},
     "output_type": "execute_result"
    }
   ],
   "source": [
    "syn5.res_similarity(syn6, genesis_ic)"
   ]
  },
  {
   "cell_type": "code",
   "execution_count": 28,
   "id": "b08bbe49",
   "metadata": {},
   "outputs": [
    {
     "data": {
      "text/plain": [
       "0.08349396564793471"
      ]
     },
     "execution_count": 28,
     "metadata": {},
     "output_type": "execute_result"
    }
   ],
   "source": [
    "#Jiang&Conrath similarity \n",
    "syn5.jcn_similarity(syn6, brown_ic)"
   ]
  },
  {
   "cell_type": "code",
   "execution_count": 29,
   "id": "ca14a8fa",
   "metadata": {},
   "outputs": [
    {
     "data": {
      "text/plain": [
       "0.09665012424379371"
      ]
     },
     "execution_count": 29,
     "metadata": {},
     "output_type": "execute_result"
    }
   ],
   "source": [
    "syn5.jcn_similarity(syn6, genesis_ic)"
   ]
  },
  {
   "cell_type": "code",
   "execution_count": 30,
   "id": "9b076f4f",
   "metadata": {},
   "outputs": [
    {
     "data": {
      "text/plain": [
       "0.37669404244945537"
      ]
     },
     "execution_count": 30,
     "metadata": {},
     "output_type": "execute_result"
    }
   ],
   "source": [
    "#Lin similarity\n",
    "syn5.lin_similarity(syn6, semcor_ic)"
   ]
  },
  {
   "cell_type": "markdown",
   "id": "4caae25f",
   "metadata": {},
   "source": [
    "speak - cry"
   ]
  },
  {
   "cell_type": "code",
   "execution_count": 31,
   "id": "b17433b2",
   "metadata": {},
   "outputs": [],
   "source": [
    "syn7 = wordnet.synsets('speak')[2]"
   ]
  },
  {
   "cell_type": "code",
   "execution_count": 32,
   "id": "e175cdba",
   "metadata": {},
   "outputs": [
    {
     "data": {
      "text/plain": [
       "Synset('speak.v.03')"
      ]
     },
     "execution_count": 32,
     "metadata": {},
     "output_type": "execute_result"
    }
   ],
   "source": [
    "syn7"
   ]
  },
  {
   "cell_type": "code",
   "execution_count": 33,
   "id": "8ab0bb02",
   "metadata": {},
   "outputs": [],
   "source": [
    "syn8 = wordnet.synsets('cry')[8]"
   ]
  },
  {
   "cell_type": "code",
   "execution_count": 34,
   "id": "0ea0d29c",
   "metadata": {},
   "outputs": [
    {
     "data": {
      "text/plain": [
       "Synset('cry.v.04')"
      ]
     },
     "execution_count": 34,
     "metadata": {},
     "output_type": "execute_result"
    }
   ],
   "source": [
    "syn8"
   ]
  },
  {
   "cell_type": "code",
   "execution_count": 35,
   "id": "b75b82ad",
   "metadata": {},
   "outputs": [
    {
     "data": {
      "text/plain": [
       "2.985554814241598"
      ]
     },
     "execution_count": 35,
     "metadata": {},
     "output_type": "execute_result"
    }
   ],
   "source": [
    "#Resnik similarity \n",
    "syn7.res_similarity(syn8, brown_ic)"
   ]
  },
  {
   "cell_type": "code",
   "execution_count": 36,
   "id": "c613b5ef",
   "metadata": {},
   "outputs": [
    {
     "data": {
      "text/plain": [
       "2.9030628766986943"
      ]
     },
     "execution_count": 36,
     "metadata": {},
     "output_type": "execute_result"
    }
   ],
   "source": [
    "syn7.res_similarity(syn8, genesis_ic)"
   ]
  },
  {
   "cell_type": "code",
   "execution_count": 37,
   "id": "bb6b1688",
   "metadata": {},
   "outputs": [
    {
     "data": {
      "text/plain": [
       "0.07870302057487255"
      ]
     },
     "execution_count": 37,
     "metadata": {},
     "output_type": "execute_result"
    }
   ],
   "source": [
    "#Jiang&Conrath similarity \n",
    "syn7.jcn_similarity(syn8, brown_ic)"
   ]
  },
  {
   "cell_type": "code",
   "execution_count": 38,
   "id": "f6265708",
   "metadata": {},
   "outputs": [
    {
     "data": {
      "text/plain": [
       "0.10120136751371238"
      ]
     },
     "execution_count": 38,
     "metadata": {},
     "output_type": "execute_result"
    }
   ],
   "source": [
    "syn7.jcn_similarity(syn8, genesis_ic)"
   ]
  },
  {
   "cell_type": "code",
   "execution_count": 39,
   "id": "39d5fae2",
   "metadata": {},
   "outputs": [
    {
     "data": {
      "text/plain": [
       "0.31338350163907625"
      ]
     },
     "execution_count": 39,
     "metadata": {},
     "output_type": "execute_result"
    }
   ],
   "source": [
    "#Lin similarity\n",
    "syn7.lin_similarity(syn8, semcor_ic)"
   ]
  },
  {
   "cell_type": "markdown",
   "id": "a58c261a",
   "metadata": {},
   "source": [
    "sing - entertain"
   ]
  },
  {
   "cell_type": "code",
   "execution_count": 40,
   "id": "c34ff0ba",
   "metadata": {},
   "outputs": [],
   "source": [
    "syn9 = wordnet.synsets('sing')[0]"
   ]
  },
  {
   "cell_type": "code",
   "execution_count": 41,
   "id": "870f88de",
   "metadata": {},
   "outputs": [
    {
     "data": {
      "text/plain": [
       "Synset('sing.v.01')"
      ]
     },
     "execution_count": 41,
     "metadata": {},
     "output_type": "execute_result"
    }
   ],
   "source": [
    "syn9"
   ]
  },
  {
   "cell_type": "code",
   "execution_count": 42,
   "id": "e901467e",
   "metadata": {},
   "outputs": [],
   "source": [
    "syn10 = wordnet.synsets('entertain')[0]"
   ]
  },
  {
   "cell_type": "code",
   "execution_count": 43,
   "id": "327223e6",
   "metadata": {},
   "outputs": [
    {
     "data": {
      "text/plain": [
       "Synset('entertain.v.01')"
      ]
     },
     "execution_count": 43,
     "metadata": {},
     "output_type": "execute_result"
    }
   ],
   "source": [
    "syn10"
   ]
  },
  {
   "cell_type": "code",
   "execution_count": 44,
   "id": "ceaf5ef4",
   "metadata": {},
   "outputs": [
    {
     "data": {
      "text/plain": [
       "2.79980555113762"
      ]
     },
     "execution_count": 44,
     "metadata": {},
     "output_type": "execute_result"
    }
   ],
   "source": [
    "#Resnik similarity \n",
    "syn9.res_similarity(syn10, brown_ic)"
   ]
  },
  {
   "cell_type": "code",
   "execution_count": 45,
   "id": "e07ed1f9",
   "metadata": {},
   "outputs": [
    {
     "data": {
      "text/plain": [
       "2.6935669121181975"
      ]
     },
     "execution_count": 45,
     "metadata": {},
     "output_type": "execute_result"
    }
   ],
   "source": [
    "syn9.res_similarity(syn10, genesis_ic)"
   ]
  },
  {
   "cell_type": "code",
   "execution_count": 46,
   "id": "eaec20db",
   "metadata": {},
   "outputs": [
    {
     "data": {
      "text/plain": [
       "0.0724999282561423"
      ]
     },
     "execution_count": 46,
     "metadata": {},
     "output_type": "execute_result"
    }
   ],
   "source": [
    "#Jiang&Conrath similarity \n",
    "syn9.jcn_similarity(syn10, brown_ic)"
   ]
  },
  {
   "cell_type": "code",
   "execution_count": 47,
   "id": "41aaa024",
   "metadata": {},
   "outputs": [
    {
     "data": {
      "text/plain": [
       "0.07648615436525485"
      ]
     },
     "execution_count": 47,
     "metadata": {},
     "output_type": "execute_result"
    }
   ],
   "source": [
    "syn9.jcn_similarity(syn10, genesis_ic)"
   ]
  },
  {
   "cell_type": "code",
   "execution_count": 48,
   "id": "19bad8de",
   "metadata": {},
   "outputs": [
    {
     "data": {
      "text/plain": [
       "0.36489894938023"
      ]
     },
     "execution_count": 48,
     "metadata": {},
     "output_type": "execute_result"
    }
   ],
   "source": [
    "#Lin similarity\n",
    "syn9.lin_similarity(syn10, semcor_ic)"
   ]
  },
  {
   "cell_type": "code",
   "execution_count": null,
   "id": "c74e7d71",
   "metadata": {},
   "outputs": [],
   "source": []
  }
 ],
 "metadata": {
  "kernelspec": {
   "display_name": "Python 3 (ipykernel)",
   "language": "python",
   "name": "python3"
  },
  "language_info": {
   "codemirror_mode": {
    "name": "ipython",
    "version": 3
   },
   "file_extension": ".py",
   "mimetype": "text/x-python",
   "name": "python",
   "nbconvert_exporter": "python",
   "pygments_lexer": "ipython3",
   "version": "3.9.6"
  }
 },
 "nbformat": 4,
 "nbformat_minor": 5
}
